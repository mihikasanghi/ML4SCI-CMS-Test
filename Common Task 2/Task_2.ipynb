{
 "cells": [
  {
   "cell_type": "markdown",
   "metadata": {},
   "source": [
    "# Task 2\n",
    "### Models used:\n",
    "- Visual Geometry Group - 12 layers\n",
    "- Vision Transformer\n",
    "\n",
    "Runs can be seen through Wandb link provided in README\n",
    "\n",
    "Wandb Link: [Common Test 2 Wandb](https://wandb.ai/mihikasanghi/ML4SCI_task2/reports/Task-2-Report--Vmlldzo3NDI5MjYy)"
   ]
  },
  {
   "cell_type": "code",
   "execution_count": 1,
   "metadata": {},
   "outputs": [],
   "source": [
    "import pandas as pd\n",
    "import pyarrow.parquet as pq\n",
    "import numpy as np\n",
    "import matplotlib.pyplot as plt\n",
    "import torch\n",
    "import torch.nn as nn\n",
    "import torch.nn.functional as F\n",
    "from torchvision import transforms, datasets\n",
    "from torch.optim import Adam\n",
    "from torch.optim.lr_scheduler import ReduceLROnPlateau\n",
    "from torch.utils.data import DataLoader, Dataset\n",
    "import torch.optim as optim\n",
    "from torch.nn.parallel import DistributedDataParallel as DDP\n",
    "import torch.distributed as dist\n",
    "import torch.multiprocessing as mp\n",
    "from torch.utils.data.distributed import DistributedSampler\n",
    "from tqdm import tqdm\n",
    "from torch.utils.data.sampler import SubsetRandomSampler\n",
    "from torchmetrics.classification import Accuracy, BinaryAccuracy\n",
    "from torchmetrics.classification import ROC, BinaryROC\n",
    "import os\n",
    "from torchmetrics import AUROC\n",
    "import matplotlib.pyplot as plt\n",
    "from sklearn.metrics import roc_curve\n",
    "from torchsummary import summary\n",
    "from einops import rearrange, repeat\n",
    "from einops.layers.torch import Rearrange\n",
    "\n",
    "device = torch.device('cuda' if torch.cuda.is_available() else 'cpu')"
   ]
  },
  {
   "cell_type": "markdown",
   "metadata": {},
   "source": [
    "# Data preprocessing\n",
    "- Converted parquet dataframe to pandas dataframe and saving in a pickle file\n",
    "- Restarted kernel to clear up RAM and start working with pickle files instead of parquet file for convinience\n",
    "- Converted all values to float, normalised it and concatenated them to form 1 big data file\n",
    "- Split data into train and test sets\n",
    "\n",
    "I had to split the preprocessing part into multiple steps due to constraints on available RAM"
   ]
  },
  {
   "cell_type": "code",
   "execution_count": 2,
   "metadata": {},
   "outputs": [],
   "source": [
    "# Data Preprocessing\n",
    "\n",
    "parquet_file = 'Data/QCDToGGQQ_IMGjet_RH1all_jet0_run0_n36272.test.snappy.parquet'\n",
    "parquet_file2 = 'Data/QCDToGGQQ_IMGjet_RH1all_jet0_run1_n47540.test.snappy.parquet'\n",
    "parquet_file3 = 'Data/QCDToGGQQ_IMGjet_RH1all_jet0_run2_n55494.test.snappy.parquet'\n",
    "\n",
    "table = pq.read_table(parquet_file)\n",
    "table2 = pq.read_table(parquet_file2)\n",
    "table3 = pq.read_table(parquet_file3)\n",
    "\n",
    "table = table.to_pandas()\n",
    "table2 = table2.to_pandas()\n",
    "table3 = table3.to_pandas()\n",
    "\n",
    "table.to_pickle('/scratch/mihika.sanghi/task2_data/parquet_1.pickle')\n",
    "table2.to_pickle('/scratch/mihika.sanghi/task2_data/parquet_2.pickle')\n",
    "table3.to_pickle('/scratch/mihika.sanghi/task2_data/parquet_3.pickle')\n",
    "\n",
    "def convert_to_float(arr):\n",
    "        if isinstance(arr, np.ndarray):\n",
    "            return np.array([convert_to_float(x) for x in arr], dtype=float)\n",
    "        else:\n",
    "            return float(arr)\n",
    "        \n",
    "big_file = pd.read_pickle('/scratch/mihika.sanghi/task2_data/parquet_1.pickle')\n",
    "big_file2 = pd.read_pickle('/scratch/mihika.sanghi/task2_data/parquet_2.pickle')\n",
    "big_file3 = pd.read_pickle('/scratch/mihika.sanghi/task2_data/parquet_3.pickle')\n",
    "\n",
    "big_file['X_jets'] = big_file['X_jets'].apply(convert_to_float)\n",
    "big_file2['X_jets'] = big_file2['X_jets'].apply(convert_to_float)\n",
    "big_file3['X_jets'] = big_file3['X_jets'].apply(convert_to_float)\n",
    "\n",
    "big_file_combined = pd.concat([big_file, big_file2, big_file3], ignore_index=True)\n",
    "\n",
    "mean = np.mean([np.mean(x, axis=(1,2)) for x in big_file_combined['X_jets']], axis=0)\n",
    "\n",
    "std = np.std([np.std(x, axis=(1,2)) for x in big_file_combined['X_jets']], axis=0)\n",
    "\n",
    "for i in range(len(big_file_combined['X_jets'])):\n",
    "    for j in range(len(big_file_combined['X_jets'][i])):\n",
    "                big_file_combined['X_jets'][i][j] = (big_file_combined['X_jets'][i][j] - mean[j]) / std[j]\n",
    "\n",
    "big_file_combined = big_file_combined.sample(frac=1).reset_index(drop=True)\n",
    "\n",
    "# big_file_combined.to_pickle('/scratch/mihika.sanghi/task2_data/parquet_combined_normalised_reshaped.pickle')\n",
    "\n",
    "train_df = big_file_combined.iloc[:int(0.8*len(big_file_combined))]\n",
    "val_df = big_file_combined.iloc[int(0.8*len(big_file_combined)):]\n",
    "\n",
    "train_df.to_pickle('/scratch/mihika.sanghi/task2_data/parquet_combined_normalised_reshaped_train.pickle')\n",
    "val_df.to_pickle('/scratch/mihika.sanghi/task2_data/parquet_combined_normalised_reshaped_val.pickle')"
   ]
  },
  {
   "cell_type": "code",
   "execution_count": 2,
   "metadata": {},
   "outputs": [],
   "source": [
    "class ParticleImageDataset(Dataset):\n",
    "    def __init__(self, split='train'):\n",
    "        if split == 'train':  \n",
    "            self.df = pd.read_pickle('/scratch/mihika.sanghi/parquet_combined_normalised_reshaped_train.pickle')\n",
    "        else:\n",
    "            self.df = pd.read_pickle('/scratch/mihika.sanghi/parquet_combined_normalised_reshaped_val.pickle')\n",
    "\n",
    "    def __len__(self):\n",
    "        return len(self.df)\n",
    "\n",
    "    def __getitem__(self, idx):\n",
    "        return torch.tensor(self.df.iloc[idx]['X_jets'], dtype=torch.float32), torch.tensor(self.df.iloc[idx]['y'], dtype=torch.float32)"
   ]
  },
  {
   "cell_type": "code",
   "execution_count": 4,
   "metadata": {},
   "outputs": [],
   "source": [
    "train_dataset = ParticleImageDataset()\n",
    "val_dataset = ParticleImageDataset(split='val')"
   ]
  },
  {
   "cell_type": "code",
   "execution_count": 9,
   "metadata": {},
   "outputs": [
    {
     "data": {
      "text/plain": [
       "(tensor([[[-0.0042, -0.0042, -0.0042,  ..., -0.0042, -0.0042, -0.0042],\n",
       "          [-0.0042, -0.0042, -0.0042,  ..., -0.0042, -0.0042, -0.0042],\n",
       "          [-0.0042, -0.0042, -0.0042,  ..., -0.0042, -0.0042, -0.0042],\n",
       "          ...,\n",
       "          [-0.0042, -0.0042, -0.0042,  ..., -0.0042, -0.0042, -0.0042],\n",
       "          [-0.0042, -0.0042, -0.0042,  ..., -0.0042, -0.0042, -0.0042],\n",
       "          [-0.0042, -0.0042, -0.0042,  ..., -0.0042, -0.0042, -0.0042]],\n",
       " \n",
       "         [[-0.0431, -0.0431, -0.0431,  ..., -0.0431, -0.0431, -0.0431],\n",
       "          [-0.0431, -0.0431, -0.0431,  ..., -0.0431, -0.0431, -0.0431],\n",
       "          [-0.0431, -0.0431, -0.0431,  ..., -0.0431, -0.0431, -0.0431],\n",
       "          ...,\n",
       "          [-0.0431, -0.0431, -0.0431,  ..., -0.0431, -0.0431, -0.0431],\n",
       "          [-0.0431, -0.0431, -0.0431,  ..., -0.0431, -0.0431, -0.0431],\n",
       "          [-0.0431, -0.0431, -0.0431,  ..., -0.0431, -0.0431, -0.0431]],\n",
       " \n",
       "         [[-0.1001, -0.1001, -0.1001,  ..., -0.1001, -0.1001, -0.1001],\n",
       "          [-0.1001, -0.1001, -0.1001,  ..., -0.1001, -0.1001, -0.1001],\n",
       "          [-0.1001, -0.1001, -0.1001,  ..., -0.1001, -0.1001, -0.1001],\n",
       "          ...,\n",
       "          [-0.1001, -0.1001, -0.1001,  ..., -0.1001, -0.1001, -0.1001],\n",
       "          [-0.1001, -0.1001, -0.1001,  ..., -0.1001, -0.1001, -0.1001],\n",
       "          [-0.1001, -0.1001, -0.1001,  ..., -0.1001, -0.1001, -0.1001]]]),\n",
       " tensor(0.))"
      ]
     },
     "execution_count": 9,
     "metadata": {},
     "output_type": "execute_result"
    }
   ],
   "source": [
    "train_dataset[42]"
   ]
  },
  {
   "cell_type": "code",
   "execution_count": 5,
   "metadata": {},
   "outputs": [],
   "source": [
    "train_loader = DataLoader(train_dataset, batch_size=64, shuffle=True, num_workers=12)\n",
    "val_loader = DataLoader(val_dataset, batch_size=64, num_workers=12)"
   ]
  },
  {
   "cell_type": "code",
   "execution_count": 6,
   "metadata": {},
   "outputs": [],
   "source": [
    "class VGG12(nn.Module):\n",
    "    def __init__(self, num_classes=2):\n",
    "        super(VGG12, self).__init__()\n",
    "        self.layer1 = nn.Sequential(\n",
    "            nn.Conv2d(3, 64, kernel_size=7, stride=1, padding=3),\n",
    "            nn.BatchNorm2d(64),\n",
    "            nn.ReLU())\n",
    "        self.layer2 = nn.Sequential(\n",
    "            nn.Conv2d(64, 64, kernel_size=7, stride=1, padding=3),\n",
    "            nn.BatchNorm2d(64),\n",
    "            nn.ReLU(), \n",
    "            nn.MaxPool2d(kernel_size=2, stride=2))\n",
    "        self.layer3 = nn.Sequential(\n",
    "            nn.Conv2d(64, 128, kernel_size=5, stride=1, padding=2),\n",
    "            nn.BatchNorm2d(128),\n",
    "            nn.ReLU())\n",
    "        self.layer4 = nn.Sequential(\n",
    "            nn.Conv2d(128, 128, kernel_size=5, stride=1, padding=2),\n",
    "            nn.BatchNorm2d(128),\n",
    "            nn.ReLU(),\n",
    "            nn.MaxPool2d(kernel_size=2, stride=2))\n",
    "        self.layer5 = nn.Sequential(\n",
    "            nn.Conv2d(128, 256, kernel_size=5, stride=1, padding=2),\n",
    "            nn.BatchNorm2d(256),\n",
    "            nn.ReLU())\n",
    "        self.layer6 = nn.Sequential(\n",
    "            nn.Conv2d(256, 256, kernel_size=5, stride=1, padding=2),\n",
    "            nn.BatchNorm2d(256),\n",
    "            nn.ReLU(),\n",
    "            nn.MaxPool2d(kernel_size=2, stride=2))\n",
    "        self.layer7 = nn.Sequential(\n",
    "            nn.Conv2d(256, 512, kernel_size=3, stride=1, padding=1),\n",
    "            nn.BatchNorm2d(512),\n",
    "            nn.ReLU())\n",
    "        self.layer8 = nn.Sequential(\n",
    "            nn.Conv2d(512, 512, kernel_size=3, stride=1, padding=1),\n",
    "            nn.BatchNorm2d(512),\n",
    "            nn.ReLU(),\n",
    "            nn.MaxPool2d(kernel_size=2, stride=2))\n",
    "        self.layer9 = nn.Sequential(\n",
    "            nn.Conv2d(512, 512, kernel_size=3, stride=1, padding=1),\n",
    "            nn.BatchNorm2d(512),\n",
    "            nn.ReLU(),\n",
    "            nn.MaxPool2d(kernel_size=2, stride=2))\n",
    "        self.fc = nn.Sequential(\n",
    "            nn.Dropout(0.5),\n",
    "            nn.Linear(4608, 2048),\n",
    "            nn.ReLU())\n",
    "        self.fc1 = nn.Sequential(\n",
    "            nn.Dropout(0.5),\n",
    "            nn.Linear(2048, 2048),\n",
    "            nn.ReLU())\n",
    "        self.fc2 = nn.Sequential(\n",
    "            nn.Linear(2048, num_classes))\n",
    "        self.calculate_accuracy = Accuracy(task='multiclass', num_classes=2, top_k=1)\n",
    "        \n",
    "    def forward(self, x):\n",
    "        out = self.layer1(x)\n",
    "        out = self.layer2(out)\n",
    "        out = self.layer3(out)\n",
    "        out = self.layer4(out)\n",
    "        out = self.layer5(out)\n",
    "        out = self.layer6(out)\n",
    "        out = self.layer7(out)\n",
    "        out = self.layer8(out)\n",
    "        out = self.layer9(out)\n",
    "        out = out.reshape(out.size(0), -1)\n",
    "        out = self.fc(out)\n",
    "        out = self.fc1(out)\n",
    "        out = self.fc2(out)\n",
    "        return out"
   ]
  },
  {
   "cell_type": "code",
   "execution_count": 7,
   "metadata": {},
   "outputs": [],
   "source": [
    "model = VGG12().to(device)"
   ]
  },
  {
   "cell_type": "code",
   "execution_count": 9,
   "metadata": {},
   "outputs": [
    {
     "name": "stderr",
     "output_type": "stream",
     "text": [
      "100%|██████████| 1742/1742 [05:22<00:00,  5.41it/s]"
     ]
    },
    {
     "name": "stdout",
     "output_type": "stream",
     "text": [
      "Epoch 1, Training loss: 1.5296411443967908, Accuracy: 0.6343947052955627\n"
     ]
    },
    {
     "name": "stderr",
     "output_type": "stream",
     "text": [
      "\n",
      "100%|██████████| 436/436 [00:21<00:00, 19.96it/s]\n"
     ]
    },
    {
     "name": "stdout",
     "output_type": "stream",
     "text": [
      "Epoch 1, Validation loss: 0.6772507452363268, Accuracy: 0.5724887847900391\n"
     ]
    },
    {
     "name": "stderr",
     "output_type": "stream",
     "text": [
      "100%|██████████| 1742/1742 [05:19<00:00,  5.45it/s]"
     ]
    },
    {
     "name": "stdout",
     "output_type": "stream",
     "text": [
      "Epoch 2, Training loss: 0.6338230020416864, Accuracy: 0.6695752143859863\n"
     ]
    },
    {
     "name": "stderr",
     "output_type": "stream",
     "text": [
      "\n",
      "100%|██████████| 436/436 [00:21<00:00, 19.94it/s]\n"
     ]
    },
    {
     "name": "stdout",
     "output_type": "stream",
     "text": [
      "Epoch 2, Validation loss: 0.6102851772116958, Accuracy: 0.6853302121162415\n"
     ]
    },
    {
     "name": "stderr",
     "output_type": "stream",
     "text": [
      "100%|██████████| 1742/1742 [05:19<00:00,  5.45it/s]"
     ]
    },
    {
     "name": "stdout",
     "output_type": "stream",
     "text": [
      "Epoch 3, Training loss: 0.6437760631711009, Accuracy: 0.6651406288146973\n"
     ]
    },
    {
     "name": "stderr",
     "output_type": "stream",
     "text": [
      "\n",
      "100%|██████████| 436/436 [00:21<00:00, 19.96it/s]\n"
     ]
    },
    {
     "name": "stdout",
     "output_type": "stream",
     "text": [
      "Epoch 3, Validation loss: 0.6246309645405603, Accuracy: 0.6862000226974487\n"
     ]
    },
    {
     "name": "stderr",
     "output_type": "stream",
     "text": [
      " 41%|████      | 713/1742 [02:09<03:06,  5.52it/s]"
     ]
    }
   ],
   "source": [
    "criterion = nn.CrossEntropyLoss()\n",
    "optimizer = optim.Adam(model.parameters(), lr=0.01)\n",
    "\n",
    "epochs = 100\n",
    "best_val_acc = 0.0\n",
    "\n",
    "for epoch in range(epochs):\n",
    "    model.train()\n",
    "    running_loss = 0.0\n",
    "    running_accuracy = 0.0\n",
    "    for i, data in tqdm(enumerate(train_loader, 0), total=len(train_loader)):\n",
    "        inputs, labels = data[0].to(device), data[1].to(device)\n",
    "\n",
    "        optimizer.zero_grad()\n",
    "\n",
    "        outputs = model(inputs)\n",
    "        labels = labels.long()\n",
    "        loss = criterion(outputs, labels)\n",
    "        accuracy = model.calculate_accuracy(outputs, labels)\n",
    "        loss.backward()\n",
    "        optimizer.step()\n",
    "\n",
    "        running_loss += loss.item()\n",
    "        running_accuracy += accuracy\n",
    "    print(f\"Epoch {epoch+1}, Training loss: {running_loss/len(train_loader)}, Accuracy: {running_accuracy/len(train_loader)}\")\n",
    "\n",
    "    if (epoch + 1) % 1 == 0:\n",
    "        model.eval()\n",
    "        running_loss = 0.0\n",
    "        running_accuracy = 0.0\n",
    "        with torch.no_grad():\n",
    "            for i, data in tqdm(enumerate(val_loader, 0), total=len(val_loader)):\n",
    "                inputs, labels = data[0].to(device), data[1].to(device)\n",
    "                outputs = model(inputs)\n",
    "                labels = labels.long()\n",
    "                loss = criterion(outputs, labels)\n",
    "                accuracy = model.calculate_accuracy(outputs, labels)\n",
    "                running_loss += loss.item()\n",
    "                running_accuracy += accuracy\n",
    "        val_acc = running_accuracy/len(val_loader)\n",
    "        if val_acc > best_val_acc:\n",
    "            best_val_acc = val_acc\n",
    "            torch.save(model.state_dict(), f'ckpts/best_model_VGG12_1e-2.pt')\n",
    "        print(f\"Epoch {epoch+1}, Validation loss: {running_loss/len(val_loader)}, Accuracy: {val_acc}\")\n",
    "\n",
    "print('Finished Training')"
   ]
  },
  {
   "cell_type": "code",
   "execution_count": 21,
   "metadata": {},
   "outputs": [
    {
     "name": "stderr",
     "output_type": "stream",
     "text": [
      "100%|██████████| 436/436 [00:21<00:00, 20.37it/s]"
     ]
    },
    {
     "name": "stdout",
     "output_type": "stream",
     "text": [
      "Validation loss: 0.5730125852817789, Accuracy: 0.7358638048171997\n"
     ]
    },
    {
     "name": "stderr",
     "output_type": "stream",
     "text": [
      "\n"
     ]
    }
   ],
   "source": [
    "# load the saved model\n",
    "model = VGG12().to(device)\n",
    "model.load_state_dict(torch.load('ckpts/best_model_VGG12_0.01.pt'))\n",
    "criterion = nn.CrossEntropyLoss()\n",
    "optimizer = optim.Adam(model.parameters(), lr=0.01)\n",
    "all_labels = []\n",
    "all_outputs = []\n",
    "\n",
    "model.eval()\n",
    "running_loss = 0.0\n",
    "running_accuracy = 0.0\n",
    "with torch.no_grad():\n",
    "    for i, data in tqdm(enumerate(val_loader, 0), total=len(val_loader)):\n",
    "        inputs, labels = data[0].to(device), data[1].to(device)\n",
    "        outputs = model(inputs)\n",
    "        labels = labels.long()\n",
    "        loss = criterion(outputs, labels)\n",
    "        \n",
    "        all_labels.extend(labels.cpu())\n",
    "        all_outputs.extend(outputs.cpu())\n",
    "        accuracy = model.calculate_accuracy(outputs, labels)\n",
    "        running_loss += loss.item()\n",
    "        running_accuracy += accuracy\n",
    "        \n",
    "val_acc = running_accuracy/len(val_loader)\n",
    "print(f\"Validation loss: {running_loss/len(val_loader)}, Accuracy: {val_acc}\")"
   ]
  },
  {
   "cell_type": "code",
   "execution_count": 24,
   "metadata": {},
   "outputs": [
    {
     "name": "stdout",
     "output_type": "stream",
     "text": [
      "ROC Score: 0.7759538888931274\n"
     ]
    },
    {
     "data": {
      "image/png": "[encoded data removed]",
      "text/plain": [
       "<Figure size 640x480 with 1 Axes>"
      ]
     },
     "metadata": {},
     "output_type": "display_data"
    }
   ],
   "source": [
    "# Convert lists to tensors\n",
    "all_labels_tensor = torch.tensor(all_labels)\n",
    "all_outputs_tensor = torch.stack(all_outputs, dim=0)\n",
    "all_outputs_tensor = all_outputs_tensor[:, 1]\n",
    "\n",
    "# Initialize metric\n",
    "metric = AUROC(task='binary')\n",
    "\n",
    "# Update state with predictions and targets\n",
    "metric.update(all_outputs_tensor, all_labels_tensor)\n",
    "\n",
    "# Compute ROC\n",
    "roc_score = metric.compute()\n",
    "\n",
    "print(f\"ROC Score: {roc_score}\")\n",
    "\n",
    "# Compute ROC curve\n",
    "fpr, tpr, thresholds = roc_curve(all_labels_tensor.cpu(), all_outputs_tensor.detach().cpu())\n",
    "\n",
    "# Plot ROC curve\n",
    "plt.figure()\n",
    "plt.plot(fpr, tpr, label='ROC curve (area = %0.2f)' % roc_score)\n",
    "plt.plot([0, 1], [0, 1], color='navy', linestyle='--')\n",
    "plt.xlim([0.0, 1.0])\n",
    "plt.ylim([0.0, 1.05])\n",
    "plt.xlabel('False Positive Rate')\n",
    "plt.ylabel('True Positive Rate')\n",
    "plt.title('Receiver Operating Characteristic')\n",
    "plt.legend(loc=\"lower right\")\n",
    "plt.show()"
   ]
  },
  {
   "cell_type": "markdown",
   "metadata": {},
   "source": [
    "# Vision Transformer Code"
   ]
  },
  {
   "cell_type": "code",
   "execution_count": 2,
   "metadata": {},
   "outputs": [],
   "source": [
    "def pair(t):\n",
    "    return t if isinstance(t, tuple) else (t, t)\n",
    "\n",
    "class FeedForward(nn.Module):\n",
    "    def __init__(self, dim, hidden_dim, dropout = 0.):\n",
    "        super().__init__()\n",
    "        self.net = nn.Sequential(\n",
    "            nn.LayerNorm(dim),\n",
    "            nn.Linear(dim, hidden_dim),\n",
    "            nn.GELU(),\n",
    "            nn.Dropout(dropout),\n",
    "            nn.Linear(hidden_dim, dim),\n",
    "            nn.Dropout(dropout)\n",
    "        )\n",
    "\n",
    "    def forward(self, x):\n",
    "        return self.net(x)\n",
    "\n",
    "class Attention(nn.Module):\n",
    "    def __init__(self, dim, heads = 8, dim_head = 64, dropout = 0.):\n",
    "        super().__init__()\n",
    "        inner_dim = dim_head *  heads\n",
    "        project_out = not (heads == 1 and dim_head == dim)\n",
    "\n",
    "        self.heads = heads\n",
    "        self.scale = dim_head ** -0.5\n",
    "\n",
    "        self.norm = nn.LayerNorm(dim)\n",
    "\n",
    "        self.attend = nn.Softmax(dim = -1)\n",
    "        self.dropout = nn.Dropout(dropout)\n",
    "\n",
    "        self.to_qkv = nn.Linear(dim, inner_dim * 3, bias = False)\n",
    "\n",
    "        self.to_out = nn.Sequential(\n",
    "            nn.Linear(inner_dim, dim),\n",
    "            nn.Dropout(dropout)\n",
    "        ) if project_out else nn.Identity()\n",
    "\n",
    "    def forward(self, x):\n",
    "        x = self.norm(x)\n",
    "\n",
    "        qkv = self.to_qkv(x).chunk(3, dim = -1)\n",
    "        q, k, v = map(lambda t: rearrange(t, 'b n (h d) -> b h n d', h = self.heads), qkv)\n",
    "\n",
    "        dots = torch.matmul(q, k.transpose(-1, -2)) * self.scale\n",
    "\n",
    "        attn = self.attend(dots)\n",
    "        attn = self.dropout(attn)\n",
    "\n",
    "        out = torch.matmul(attn, v)\n",
    "        out = rearrange(out, 'b h n d -> b n (h d)')\n",
    "        return self.to_out(out)\n",
    "\n",
    "class Transformer(nn.Module):\n",
    "    def __init__(self, dim, depth, heads, dim_head, mlp_dim, dropout = 0.):\n",
    "        super().__init__()\n",
    "        self.norm = nn.LayerNorm(dim)\n",
    "        self.layers = nn.ModuleList([])\n",
    "        for _ in range(depth):\n",
    "            self.layers.append(nn.ModuleList([\n",
    "                Attention(dim, heads = heads, dim_head = dim_head, dropout = dropout),\n",
    "                FeedForward(dim, mlp_dim, dropout = dropout)\n",
    "            ]))\n",
    "\n",
    "    def forward(self, x):\n",
    "        for attn, ff in self.layers:\n",
    "            x = attn(x) + x\n",
    "            x = ff(x) + x\n",
    "\n",
    "        return self.norm(x)\n",
    "\n",
    "class ViT(nn.Module):\n",
    "    def __init__(self, *, image_size, patch_size, num_classes, dim, depth, heads, mlp_dim, pool = 'cls', channels = 3, dim_head = 64, dropout = 0., emb_dropout = 0.):\n",
    "        super().__init__()\n",
    "        image_height, image_width = pair(image_size)\n",
    "        patch_height, patch_width = pair(patch_size)\n",
    "\n",
    "        assert image_height % patch_height == 0 and image_width % patch_width == 0, 'Image dimensions must be divisible by the patch size.'\n",
    "\n",
    "        num_patches = (image_height // patch_height) * (image_width // patch_width)\n",
    "        patch_dim = channels * patch_height * patch_width\n",
    "        assert pool in {'cls', 'mean'}, 'pool type must be either cls (cls token) or mean (mean pooling)'\n",
    "\n",
    "        self.to_patch_embedding = nn.Sequential(\n",
    "            Rearrange('b c (h p1) (w p2) -> b (h w) (p1 p2 c)', p1 = patch_height, p2 = patch_width),\n",
    "            nn.LayerNorm(patch_dim),\n",
    "            nn.Linear(patch_dim, dim),\n",
    "            nn.LayerNorm(dim),\n",
    "        )\n",
    "\n",
    "        self.pos_embedding = nn.Parameter(torch.randn(1, num_patches + 1, dim))\n",
    "        self.cls_token = nn.Parameter(torch.randn(1, 1, dim))\n",
    "        self.dropout = nn.Dropout(emb_dropout)\n",
    "\n",
    "        self.transformer = Transformer(dim, depth, heads, dim_head, mlp_dim, dropout)\n",
    "\n",
    "        self.pool = pool\n",
    "        self.to_latent = nn.Identity()\n",
    "\n",
    "        self.mlp_head = nn.Linear(dim, num_classes)\n",
    "        self.calculate_accuracy = BinaryAccuracy()\n",
    "\n",
    "    def forward(self, img):\n",
    "        x = self.to_patch_embedding(img)\n",
    "        b, n, _ = x.shape\n",
    "\n",
    "        cls_tokens = repeat(self.cls_token, '1 1 d -> b 1 d', b = b)\n",
    "        x = torch.cat((cls_tokens, x), dim=1)\n",
    "        x += self.pos_embedding[:, :(n + 1)]\n",
    "        x = self.dropout(x)\n",
    "\n",
    "        x = self.transformer(x)\n",
    "\n",
    "        x = x.mean(dim = 1) if self.pool == 'mean' else x[:, 0]\n",
    "\n",
    "        x = self.to_latent(x)\n",
    "        return self.mlp_head(x)"
   ]
  },
  {
   "cell_type": "code",
   "execution_count": 3,
   "metadata": {},
   "outputs": [],
   "source": [
    "class ParticleImageDataset(Dataset):\n",
    "    def __init__(self, split='train'):\n",
    "        \n",
    "        if split == 'train':  \n",
    "            self.df = pd.read_pickle('/scratch/mihika.sanghi/parquet_combined_normalised_reshaped_train.pickle')\n",
    "\n",
    "        else:\n",
    "            self.df = pd.read_pickle('/scratch/mihika.sanghi/parquet_combined_normalised_reshaped_val.pickle')\n",
    "\n",
    "    def __len__(self):\n",
    "        return len(self.df)\n",
    "\n",
    "    def __getitem__(self, idx):\n",
    "        return torch.tensor(self.df.iloc[idx]['X_jets'], dtype=torch.float32), torch.tensor(self.df.iloc[idx]['y'], dtype=torch.float32)"
   ]
  },
  {
   "cell_type": "code",
   "execution_count": 4,
   "metadata": {},
   "outputs": [],
   "source": [
    "train_dataset = ParticleImageDataset()\n",
    "val_dataset = ParticleImageDataset(split='val')\n",
    "train_dataset[42]\n",
    "train_loader = DataLoader(train_dataset, batch_size=32, shuffle=True, num_workers=13)\n",
    "val_loader = DataLoader(val_dataset, batch_size=32, shuffle=False, num_workers=13)"
   ]
  },
  {
   "cell_type": "code",
   "execution_count": 5,
   "metadata": {},
   "outputs": [],
   "source": [
    "model = ViT(image_size = (125, 125), patch_size = (5, 5), num_classes = 2, dim = 128, depth = 6, heads = 8, mlp_dim = 128).to(device)"
   ]
  },
  {
   "cell_type": "markdown",
   "metadata": {},
   "source": [
    "## Finding the number of parameters in the ViT model"
   ]
  },
  {
   "cell_type": "code",
   "execution_count": 6,
   "metadata": {},
   "outputs": [
    {
     "name": "stdout",
     "output_type": "stream",
     "text": [
      "----------------------------------------------------------------\n",
      "        Layer (type)               Output Shape         Param #\n",
      "================================================================\n",
      "         Rearrange-1              [-1, 625, 75]               0\n",
      "         LayerNorm-2              [-1, 625, 75]             150\n",
      "            Linear-3             [-1, 625, 128]           9,728\n",
      "         LayerNorm-4             [-1, 625, 128]             256\n",
      "           Dropout-5             [-1, 626, 128]               0\n",
      "         LayerNorm-6             [-1, 626, 128]             256\n",
      "            Linear-7            [-1, 626, 1536]         196,608\n",
      "           Softmax-8          [-1, 8, 626, 626]               0\n",
      "           Dropout-9          [-1, 8, 626, 626]               0\n",
      "           Linear-10             [-1, 626, 128]          65,664\n",
      "          Dropout-11             [-1, 626, 128]               0\n",
      "        Attention-12             [-1, 626, 128]               0\n",
      "        LayerNorm-13             [-1, 626, 128]             256\n",
      "           Linear-14             [-1, 626, 128]          16,512\n",
      "             GELU-15             [-1, 626, 128]               0\n",
      "          Dropout-16             [-1, 626, 128]               0\n",
      "           Linear-17             [-1, 626, 128]          16,512\n",
      "          Dropout-18             [-1, 626, 128]               0\n",
      "      FeedForward-19             [-1, 626, 128]               0\n",
      "        LayerNorm-20             [-1, 626, 128]             256\n",
      "           Linear-21            [-1, 626, 1536]         196,608\n",
      "          Softmax-22          [-1, 8, 626, 626]               0\n",
      "          Dropout-23          [-1, 8, 626, 626]               0\n",
      "           Linear-24             [-1, 626, 128]          65,664\n",
      "          Dropout-25             [-1, 626, 128]               0\n",
      "        Attention-26             [-1, 626, 128]               0\n",
      "        LayerNorm-27             [-1, 626, 128]             256\n",
      "           Linear-28             [-1, 626, 128]          16,512\n",
      "             GELU-29             [-1, 626, 128]               0\n",
      "          Dropout-30             [-1, 626, 128]               0\n",
      "           Linear-31             [-1, 626, 128]          16,512\n",
      "          Dropout-32             [-1, 626, 128]               0\n",
      "      FeedForward-33             [-1, 626, 128]               0\n",
      "        LayerNorm-34             [-1, 626, 128]             256\n",
      "           Linear-35            [-1, 626, 1536]         196,608\n",
      "          Softmax-36          [-1, 8, 626, 626]               0\n",
      "          Dropout-37          [-1, 8, 626, 626]               0\n",
      "           Linear-38             [-1, 626, 128]          65,664\n",
      "          Dropout-39             [-1, 626, 128]               0\n",
      "        Attention-40             [-1, 626, 128]               0\n",
      "        LayerNorm-41             [-1, 626, 128]             256\n",
      "           Linear-42             [-1, 626, 128]          16,512\n",
      "             GELU-43             [-1, 626, 128]               0\n",
      "          Dropout-44             [-1, 626, 128]               0\n",
      "           Linear-45             [-1, 626, 128]          16,512\n",
      "          Dropout-46             [-1, 626, 128]               0\n",
      "      FeedForward-47             [-1, 626, 128]               0\n",
      "        LayerNorm-48             [-1, 626, 128]             256\n",
      "           Linear-49            [-1, 626, 1536]         196,608\n",
      "          Softmax-50          [-1, 8, 626, 626]               0\n",
      "          Dropout-51          [-1, 8, 626, 626]               0\n",
      "           Linear-52             [-1, 626, 128]          65,664\n",
      "          Dropout-53             [-1, 626, 128]               0\n",
      "        Attention-54             [-1, 626, 128]               0\n",
      "        LayerNorm-55             [-1, 626, 128]             256\n",
      "           Linear-56             [-1, 626, 128]          16,512\n",
      "             GELU-57             [-1, 626, 128]               0\n",
      "          Dropout-58             [-1, 626, 128]               0\n",
      "           Linear-59             [-1, 626, 128]          16,512\n",
      "          Dropout-60             [-1, 626, 128]               0\n",
      "      FeedForward-61             [-1, 626, 128]               0\n",
      "        LayerNorm-62             [-1, 626, 128]             256\n",
      "           Linear-63            [-1, 626, 1536]         196,608\n",
      "          Softmax-64          [-1, 8, 626, 626]               0\n",
      "          Dropout-65          [-1, 8, 626, 626]               0\n",
      "           Linear-66             [-1, 626, 128]          65,664\n",
      "          Dropout-67             [-1, 626, 128]               0\n",
      "        Attention-68             [-1, 626, 128]               0\n",
      "        LayerNorm-69             [-1, 626, 128]             256\n",
      "           Linear-70             [-1, 626, 128]          16,512\n",
      "             GELU-71             [-1, 626, 128]               0\n",
      "          Dropout-72             [-1, 626, 128]               0\n",
      "           Linear-73             [-1, 626, 128]          16,512\n",
      "          Dropout-74             [-1, 626, 128]               0\n",
      "      FeedForward-75             [-1, 626, 128]               0\n",
      "        LayerNorm-76             [-1, 626, 128]             256\n",
      "           Linear-77            [-1, 626, 1536]         196,608\n",
      "          Softmax-78          [-1, 8, 626, 626]               0\n",
      "          Dropout-79          [-1, 8, 626, 626]               0\n",
      "           Linear-80             [-1, 626, 128]          65,664\n",
      "          Dropout-81             [-1, 626, 128]               0\n",
      "        Attention-82             [-1, 626, 128]               0\n",
      "        LayerNorm-83             [-1, 626, 128]             256\n",
      "           Linear-84             [-1, 626, 128]          16,512\n",
      "             GELU-85             [-1, 626, 128]               0\n",
      "          Dropout-86             [-1, 626, 128]               0\n",
      "           Linear-87             [-1, 626, 128]          16,512\n",
      "          Dropout-88             [-1, 626, 128]               0\n",
      "      FeedForward-89             [-1, 626, 128]               0\n",
      "        LayerNorm-90             [-1, 626, 128]             256\n",
      "      Transformer-91             [-1, 626, 128]               0\n",
      "         Identity-92                  [-1, 128]               0\n",
      "           Linear-93                    [-1, 2]             258\n",
      "================================================================\n",
      "Total params: 1,785,496\n",
      "Trainable params: 1,785,496\n",
      "Non-trainable params: 0\n",
      "----------------------------------------------------------------\n",
      "Input size (MB): 0.18\n",
      "Forward/backward pass size (MB): 375.15\n",
      "Params size (MB): 6.81\n",
      "Estimated Total Size (MB): 382.14\n",
      "----------------------------------------------------------------\n"
     ]
    }
   ],
   "source": [
    "summary(model, input_size=(3, 125, 125))"
   ]
  },
  {
   "cell_type": "code",
   "execution_count": null,
   "metadata": {},
   "outputs": [],
   "source": [
    "criterion = nn.CrossEntropyLoss()\n",
    "optimizer = optim.Adam(model.parameters(), lr=0.001)\n",
    "\n",
    "epochs = 100\n",
    "best_val_acc = 0.0\n",
    "\n",
    "for epoch in range(epochs):\n",
    "    model.train()\n",
    "    running_loss = 0.0\n",
    "    running_accuracy = 0.0\n",
    "    for i, data in tqdm(enumerate(train_loader, 0), total=len(train_loader)):\n",
    "        inputs, labels = data[0].to(device), data[1].to(device)\n",
    "\n",
    "        optimizer.zero_grad()\n",
    "\n",
    "        outputs = model(inputs)\n",
    "        labels = labels.long()\n",
    "        loss = criterion(outputs, labels)\n",
    "        accuracy = model.calculate_accuracy(torch.argmax(outputs, dim=1), labels)\n",
    "        loss.backward()\n",
    "        optimizer.step()\n",
    "\n",
    "        running_loss += loss.item()\n",
    "        running_accuracy += accuracy\n",
    "    print(f\"Epoch {epoch+1}, Training loss: {running_loss/len(train_loader)}, Accuracy: {running_accuracy/len(train_loader)}\")\n",
    "\n",
    "    if (epoch + 1) % 1 == 0:\n",
    "        model.eval()\n",
    "        running_loss = 0.0\n",
    "        running_accuracy = 0.0\n",
    "        with torch.no_grad():\n",
    "            for i, data in tqdm(enumerate(val_loader, 0), total=len(val_loader)):\n",
    "                inputs, labels = data[0].to(device), data[1].to(device)\n",
    "                outputs = model(inputs)\n",
    "                labels = labels.long()\n",
    "                loss = criterion(outputs, labels)\n",
    "                accuracy = model.calculate_accuracy(torch.argmax(outputs, dim=1), labels)\n",
    "                running_loss += loss.item()\n",
    "                running_accuracy += accuracy\n",
    "        val_acc = running_accuracy/len(val_loader)\n",
    "        if val_acc > best_val_acc:\n",
    "            best_val_acc = val_acc\n",
    "            torch.save(model.state_dict(), f'ckpts/best_model_ViT_1e-2.pt')\n",
    "        print(f\"Epoch {epoch+1}, Validation loss: {running_loss/len(val_loader)}, Accuracy: {val_acc}\")\n",
    "\n",
    "print('Finished Training')"
   ]
  },
  {
   "cell_type": "markdown",
   "metadata": {},
   "source": [
    "## Data Visualization\n",
    "Provide path to parquet file"
   ]
  },
  {
   "cell_type": "code",
   "execution_count": null,
   "metadata": {},
   "outputs": [
    {
     "name": "stderr",
     "output_type": "stream",
     "text": [
      "Clipping input data to the valid range for imshow with RGB data ([0..1] for floats or [0..255] for integers).\n"
     ]
    },
    {
     "data": {
      "image/png": "[encoded data removed]",
      "text/plain": [
       "<Figure size 640x480 with 1 Axes>"
      ]
     },
     "metadata": {},
     "output_type": "display_data"
    },
    {
     "name": "stderr",
     "output_type": "stream",
     "text": [
      "Clipping input data to the valid range for imshow with RGB data ([0..1] for floats or [0..255] for integers).\n"
     ]
    },
    {
     "data": {
      "image/png": "[encoded data removed]",
      "text/plain": [
       "<Figure size 640x480 with 1 Axes>"
      ]
     },
     "metadata": {},
     "output_type": "display_data"
    },
    {
     "name": "stderr",
     "output_type": "stream",
     "text": [
      "Clipping input data to the valid range for imshow with RGB data ([0..1] for floats or [0..255] for integers).\n"
     ]
    },
    {
     "data": {
      "image/png": "[encoded data removed]",
      "text/plain": [
       "<Figure size 640x480 with 1 Axes>"
      ]
     },
     "metadata": {},
     "output_type": "display_data"
    }
   ],
   "source": [
    "path_name = 'path to original parquet file'\n",
    "table = pq.read_table(path_name)\n",
    "\n",
    "arr = table['X_jets'][0].as_py()\n",
    "arr = np.array(arr)\n",
    "arr_transposed = np.transpose(arr, (1, 2, 0))\n",
    "plt.imshow(arr_transposed, cmap='gray')\n",
    "plt.show()\n",
    "\n",
    "arr2 = table2['X_jets'][0].as_py()\n",
    "arr2 = np.array(arr2)\n",
    "arr_transposed2 = np.transpose(arr2, (1, 2, 0))\n",
    "plt.imshow(arr_transposed2, cmap='gray')\n",
    "plt.show()\n",
    "\n",
    "arr3 = table3['X_jets'][0].as_py()\n",
    "arr3 = np.array(arr3)\n",
    "arr_transposed3 = np.transpose(arr3, (1, 2, 0))\n",
    "plt.imshow(arr_transposed3, cmap='gray')\n",
    "plt.show()"
   ]
  }
 ],
 "metadata": {
  "kernelspec": {
   "display_name": "pytorch",
   "language": "python",
   "name": "python3"
  },
  "language_info": {
   "codemirror_mode": {
    "name": "ipython",
    "version": 3
   },
   "file_extension": ".py",
   "mimetype": "text/x-python",
   "name": "python",
   "nbconvert_exporter": "python",
   "pygments_lexer": "ipython3",
   "version": "3.10.14"
  }
 },
 "nbformat": 4,
 "nbformat_minor": 2
}
